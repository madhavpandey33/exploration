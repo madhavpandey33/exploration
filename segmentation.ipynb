{
  "cells": [
    {
      "cell_type": "markdown",
      "metadata": {
        "id": "view-in-github",
        "colab_type": "text"
      },
      "source": [
        "<a href=\"https://colab.research.google.com/github/madhavpandey33/exploration/blob/main/segmentation.ipynb\" target=\"_parent\"><img src=\"https://colab.research.google.com/assets/colab-badge.svg\" alt=\"Open In Colab\"/></a>"
      ]
    },
    {
      "cell_type": "code",
      "execution_count": null,
      "metadata": {
        "id": "uH8pPyYNJTM0"
      },
      "outputs": [],
      "source": [
        "import cv2\n",
        "from PIL import Image\n",
        "import numpy as np\n",
        "import os\n",
        "from matplotlib import pyplot as plt\n",
        "\n"
      ]
    },
    {
      "cell_type": "code",
      "execution_count": null,
      "metadata": {
        "colab": {
          "background_save": true
        },
        "id": "3PEhcRAuJaO3"
      },
      "outputs": [],
      "source": [
        "def preprocess_image(image_path):\n",
        "    image = cv2.imread(image_path)\n",
        "    gray = cv2.cvtColor(image, cv2.COLOR_BGR2GRAY)\n",
        "    binary_image = cv2.adaptiveThreshold(gray, 255, cv2.ADAPTIVE_THRESH_GAUSSIAN_C, cv2.THRESH_BINARY, 11, 2)\n",
        "    return binary_image\n",
        "\n"
      ]
    },
    {
      "cell_type": "code",
      "execution_count": null,
      "metadata": {
        "id": "GNZKgbdcJjQS"
      },
      "outputs": [],
      "source": [
        "def segment_image(binary_image):\n",
        "    contours, _ = cv2.findContours(binary_image, cv2.RETR_EXTERNAL, cv2.CHAIN_APPROX_SIMPLE)\n",
        "    segmented_regions = []\n",
        "\n",
        "    for contour in contours:\n",
        "        x, y, w, h = cv2.boundingRect(contour)\n",
        "        segmented_regions.append((x, y, w, h))\n",
        "\n",
        "    return segmented_regions\n"
      ]
    },
    {
      "cell_type": "code",
      "execution_count": null,
      "metadata": {
        "id": "g9pxqR2tJl_G"
      },
      "outputs": [],
      "source": [
        "def save_segmented_images(image_path, segmented_regions, output_dir):\n",
        "    image = Image.open(image_path)\n",
        "\n",
        "    if not os.path.exists(output_dir):\n",
        "        os.makedirs(output_dir)\n",
        "\n",
        "    for idx, region in enumerate(segmented_regions):\n",
        "        x, y, w, h = region\n",
        "        cropped_image = image.crop((x, y, x + w, y + h))\n",
        "        cropped_image_path = os.path.join(output_dir, f\"segment_{idx}.png\")\n",
        "        cropped_image.save(cropped_image_path)\n",
        "        print(f\"Saved: {cropped_image_path}\")"
      ]
    },
    {
      "cell_type": "code",
      "execution_count": null,
      "metadata": {
        "id": "RAP3w-UiJn0B"
      },
      "outputs": [],
      "source": [
        "def ocr_segmentation_and_save(image_path, output_dir):\n",
        "    binary_image = preprocess_image(image_path)\n",
        "    segmented_regions = segment_image(binary_image)\n",
        "    save_segmented_images(image_path, segmented_regions, output_dir)\n",
        "\n"
      ]
    },
    {
      "cell_type": "code",
      "source": [
        "if __name__ == \"__main__\":\n",
        "    image_path = \"/content/hinid.jpeg\"\n",
        "    output_dir = \"/content/output\"\n",
        "    ocr_segmentation_and_save(image_path, output_dir)\n",
        "\n",
        "    image = cv2.imread(image_path)\n",
        "\n",
        "    # Check if the image was loaded properly\n",
        "    #if image is None:\n",
        "    #    print(\"Error: Could not load image.\")\n",
        "    #else:\n",
        "    #    # Convert the image from BGR to RGB\n",
        "     #   image_rgb = cv2.cvtColor(image, cv2.COLOR_BGR2RGB)\n",
        "#\n",
        "    #    # Display the image using matplotlib\n",
        "    #    plt.imshow(image_rgb)\n",
        "    #    plt.axis('off')  # Hide the axis\n",
        "    #    plt.show()"
      ],
      "metadata": {
        "id": "50irXLLeK37c",
        "colab": {
          "base_uri": "https://localhost:8080/"
        },
        "outputId": "c288fd3e-92e7-45c5-b69a-9dd4fe6290dc"
      },
      "execution_count": 21,
      "outputs": [
        {
          "output_type": "stream",
          "name": "stdout",
          "text": [
            "Saved: /content/output/segment_0.png\n"
          ]
        }
      ]
    }
  ],
  "metadata": {
    "colab": {
      "provenance": [],
      "authorship_tag": "ABX9TyO8hMise2ZGD47YEkQotdmA",
      "include_colab_link": true
    },
    "kernelspec": {
      "display_name": "Python 3",
      "name": "python3"
    },
    "language_info": {
      "name": "python"
    }
  },
  "nbformat": 4,
  "nbformat_minor": 0
}